{
 "cells": [
  {
   "cell_type": "code",
   "execution_count": 1,
   "id": "1666b9a8-dc0b-4711-81ef-bbcdf432ad2c",
   "metadata": {},
   "outputs": [],
   "source": [
    "from sympy import *\n",
    "init_printing()\n",
    "\n",
    "# define lambda as symbol\n",
    "lamda = symbols('lamda')"
   ]
  },
  {
   "cell_type": "markdown",
   "id": "ccaa5dc7-66f0-482f-a6f9-43644804937f",
   "metadata": {},
   "source": [
    "# 1) Dot Products"
   ]
  },
  {
   "cell_type": "code",
   "execution_count": 13,
   "id": "09cdaa26-6e52-4398-b55b-e43bcae0fa05",
   "metadata": {},
   "outputs": [
    {
     "data": {
      "image/png": "[encoded data removed]",
      "text/latex": [
       "$\\displaystyle \\left( 0, \\  26, \\  0, \\  -35, \\  0, \\  20, \\  -3\\right)$"
      ],
      "text/plain": [
       "(0, 26, 0, -35, 0, 20, -3)"
      ]
     },
     "execution_count": 13,
     "metadata": {},
     "output_type": "execute_result"
    }
   ],
   "source": [
    "# Define vectors\n",
    "a = Matrix([2, -5, 7])\n",
    "b = Matrix([4, 3, 1])\n",
    "c = Matrix([-5, 4, 8])\n",
    "u = Matrix([-1, 3, 2, -4])\n",
    "v = Matrix([5, 0, 3, 9])\n",
    "w = Matrix([4, -2, 3, -1])\n",
    "\n",
    "# Compute dot products\n",
    "a.dot(b), a.dot(c), b.dot(c), u.dot(v), u.dot(w), v.dot(w), a.dot(u[:3])"
   ]
  },
  {
   "cell_type": "markdown",
   "id": "f65d880c-6b21-4f38-ad1a-572f91e26fc9",
   "metadata": {},
   "source": [
    "The last dot product needed to be modified because vector a has 3 entries while vector u has 4."
   ]
  },
  {
   "cell_type": "markdown",
   "id": "c14d24d5-c09a-45b9-8afa-a10b3621e379",
   "metadata": {},
   "source": [
    "# 2) Orthogonal Basis (Gram-Schmidt)"
   ]
  },
  {
   "cell_type": "code",
   "execution_count": 19,
   "id": "4a4e9349-d981-48e4-851e-8cefc9fa236c",
   "metadata": {},
   "outputs": [
    {
     "data": {
      "text/latex": [
       "$\\displaystyle \\left[ \\left[\\begin{matrix}-1\\\\3\\\\2\\\\-4\\end{matrix}\\right], \\  \\left[\\begin{matrix}\\frac{23}{6}\\\\\\frac{7}{2}\\\\\\frac{16}{3}\\\\\\frac{13}{3}\\end{matrix}\\right], \\  \\left[\\begin{matrix}\\frac{264}{89}\\\\- \\frac{262}{89}\\\\\\frac{139}{89}\\\\- \\frac{193}{89}\\end{matrix}\\right]\\right]$"
      ],
      "text/plain": [
       "⎡              ⎡ 264 ⎤⎤\n",
       "⎢              ⎢ ─── ⎥⎥\n",
       "⎢              ⎢  89 ⎥⎥\n",
       "⎢              ⎢     ⎥⎥\n",
       "⎢⎡-1⎤  ⎡23/6⎤  ⎢-262 ⎥⎥\n",
       "⎢⎢  ⎥  ⎢    ⎥  ⎢─────⎥⎥\n",
       "⎢⎢3 ⎥  ⎢7/2 ⎥  ⎢  89 ⎥⎥\n",
       "⎢⎢  ⎥, ⎢    ⎥, ⎢     ⎥⎥\n",
       "⎢⎢2 ⎥  ⎢16/3⎥  ⎢ 139 ⎥⎥\n",
       "⎢⎢  ⎥  ⎢    ⎥  ⎢ ─── ⎥⎥\n",
       "⎢⎣-4⎦  ⎣13/3⎦  ⎢  89 ⎥⎥\n",
       "⎢              ⎢     ⎥⎥\n",
       "⎢              ⎢-193 ⎥⎥\n",
       "⎢              ⎢─────⎥⎥\n",
       "⎣              ⎣  89 ⎦⎦"
      ]
     },
     "execution_count": 19,
     "metadata": {},
     "output_type": "execute_result"
    }
   ],
   "source": [
    "# For a, b, c\n",
    "orthogonal_abc = GramSchmidt([a, b, c])\n",
    "orthogonal_abc\n",
    "\n",
    "# For u, v, w\n",
    "orthogonal_uvw = GramSchmidt([u, v, w])\n",
    "orthogonal_uvw"
   ]
  },
  {
   "cell_type": "markdown",
   "id": "2686ff15-7271-4f75-a036-2504d89dba99",
   "metadata": {},
   "source": [
    "# 3) Orthonormal Basis"
   ]
  },
  {
   "cell_type": "code",
   "execution_count": 22,
   "id": "ffca162e-3939-485f-a73b-7dd3f707b2c4",
   "metadata": {},
   "outputs": [
    {
     "data": {
      "text/latex": [
       "$\\displaystyle \\left[ \\left[\\begin{matrix}- \\frac{\\sqrt{30}}{30}\\\\\\frac{\\sqrt{30}}{10}\\\\\\frac{\\sqrt{30}}{15}\\\\- \\frac{2 \\sqrt{30}}{15}\\end{matrix}\\right], \\  \\left[\\begin{matrix}\\frac{23 \\sqrt{2670}}{2670}\\\\\\frac{7 \\sqrt{2670}}{890}\\\\\\frac{16 \\sqrt{2670}}{1335}\\\\\\frac{13 \\sqrt{2670}}{1335}\\end{matrix}\\right], \\  \\left[\\begin{matrix}\\frac{44 \\sqrt{194910}}{32485}\\\\- \\frac{131 \\sqrt{194910}}{97455}\\\\\\frac{139 \\sqrt{194910}}{194910}\\\\- \\frac{193 \\sqrt{194910}}{194910}\\end{matrix}\\right]\\right]$"
      ],
      "text/plain": [
       "⎡⎡ -√30  ⎤  ⎡23⋅√2670⎤  ⎡ 44⋅√194910  ⎤⎤\n",
       "⎢⎢ ───── ⎥  ⎢────────⎥  ⎢ ──────────  ⎥⎥\n",
       "⎢⎢   30  ⎥  ⎢  2670  ⎥  ⎢   32485     ⎥⎥\n",
       "⎢⎢       ⎥  ⎢        ⎥  ⎢             ⎥⎥\n",
       "⎢⎢  √30  ⎥  ⎢7⋅√2670 ⎥  ⎢-131⋅√194910 ⎥⎥\n",
       "⎢⎢  ───  ⎥  ⎢─────── ⎥  ⎢─────────────⎥⎥\n",
       "⎢⎢   10  ⎥  ⎢  890   ⎥  ⎢    97455    ⎥⎥\n",
       "⎢⎢       ⎥, ⎢        ⎥, ⎢             ⎥⎥\n",
       "⎢⎢  √30  ⎥  ⎢16⋅√2670⎥  ⎢ 139⋅√194910 ⎥⎥\n",
       "⎢⎢  ───  ⎥  ⎢────────⎥  ⎢ ─────────── ⎥⎥\n",
       "⎢⎢   15  ⎥  ⎢  1335  ⎥  ⎢    194910   ⎥⎥\n",
       "⎢⎢       ⎥  ⎢        ⎥  ⎢             ⎥⎥\n",
       "⎢⎢-2⋅√30 ⎥  ⎢13⋅√2670⎥  ⎢-193⋅√194910 ⎥⎥\n",
       "⎢⎢───────⎥  ⎢────────⎥  ⎢─────────────⎥⎥\n",
       "⎣⎣   15  ⎦  ⎣  1335  ⎦  ⎣    194910   ⎦⎦"
      ]
     },
     "execution_count": 22,
     "metadata": {},
     "output_type": "execute_result"
    }
   ],
   "source": [
    "# For a, b, c\n",
    "orthonormal_abc = GramSchmidt([a, b, c], orthonormal=True)\n",
    "orthonormal_abc\n",
    "\n",
    "# For u, v, w\n",
    "orthonormal_uvw = GramSchmidt([u, v, w], orthonormal=True)\n",
    "orthonormal_uvw"
   ]
  },
  {
   "cell_type": "markdown",
   "id": "51077b0b-411c-4591-8ec2-413a7697d7ec",
   "metadata": {},
   "source": [
    "# 4) Matrix A Analysis"
   ]
  },
  {
   "cell_type": "markdown",
   "id": "0922cc98-48ce-47e9-98e0-1e763dc8fe16",
   "metadata": {},
   "source": [
    "## find the characteristic polynomial"
   ]
  },
  {
   "cell_type": "code",
   "execution_count": 6,
   "id": "b03fe0ab-7d08-4d5e-a3da-b414d736b739",
   "metadata": {},
   "outputs": [
    {
     "data": {
      "text/latex": [
       "$\\displaystyle \\lambda^{3} - 5 \\lambda^{2} + 3 \\lambda + 9$"
      ],
      "text/plain": [
       "lamda**3 - 5*lamda**2 + 3*lamda + 9"
      ]
     },
     "execution_count": 6,
     "metadata": {},
     "output_type": "execute_result"
    }
   ],
   "source": [
    "# Define the symbol λ\n",
    "lamda = symbols('lamda')\n",
    "\n",
    "# Define the matrix A\n",
    "A = Matrix([\n",
    "    [-1, 4, -4],\n",
    "    [-4, 7, -4],\n",
    "    [-4, 4, -1]\n",
    "])\n",
    "\n",
    "# Compute the characteristic polynomial\n",
    "charpoly = A.charpoly(lamda)\n",
    "\n",
    "# Display the polynomial expression\n",
    "charpoly.as_expr()"
   ]
  },
  {
   "cell_type": "markdown",
   "id": "42114f9b-1dff-4318-b111-7ca62cf4ef2a",
   "metadata": {},
   "source": [
    "## factor that characteristic polynomial"
   ]
  },
  {
   "cell_type": "code",
   "execution_count": 32,
   "id": "7c367323-40ba-471e-9caf-5cd74d38de39",
   "metadata": {},
   "outputs": [
    {
     "data": {
      "image/png": "[encoded data removed]",
      "text/latex": [
       "$\\displaystyle \\left(\\lambda - 3\\right)^{2} \\left(\\lambda + 1\\right)$"
      ],
      "text/plain": [
       "       2        \n",
       "(λ - 3) ⋅(λ + 1)"
      ]
     },
     "execution_count": 32,
     "metadata": {},
     "output_type": "execute_result"
    }
   ],
   "source": [
    "factor(charpoly.as_expr())"
   ]
  },
  {
   "cell_type": "markdown",
   "id": "98ce4d93-30cc-4a3a-9791-7a64b90c8583",
   "metadata": {},
   "source": [
    "## eigenvalues"
   ]
  },
  {
   "cell_type": "code",
   "execution_count": 40,
   "id": "4dc71887-e95f-4a14-9301-5f56406872cf",
   "metadata": {},
   "outputs": [
    {
     "data": {
      "image/png": "[encoded data removed]",
      "text/latex": [
       "$\\displaystyle \\left\\{ -1 : 1, \\  3 : 2\\right\\}$"
      ],
      "text/plain": [
       "{-1: 1, 3: 2}"
      ]
     },
     "execution_count": 40,
     "metadata": {},
     "output_type": "execute_result"
    }
   ],
   "source": [
    "# Extract eigenvalues and their multiplicities\n",
    "eigenvalues = roots(charpoly.as_expr(), lamda)\n",
    "eigenvalues"
   ]
  },
  {
   "cell_type": "markdown",
   "id": "9b34d3c0-7c31-4f3f-a192-05116beada4e",
   "metadata": {},
   "source": [
    "## eigenvectors"
   ]
  },
  {
   "cell_type": "code",
   "execution_count": 46,
   "id": "f335e256-76f0-4529-8c94-89175680d800",
   "metadata": {},
   "outputs": [],
   "source": [
    "# Compute eigenvectors manually from (A - λI)v = 0\n",
    "\n",
    "# Create identity matrix I of same size as A\n",
    "I = eye(A.shape[0])  # 3x3 identity matrix\n",
    "\n",
    "# Dictionary to store eigenvectors for each eigenvalue\n",
    "eigenvectors = {}\n",
    "\n",
    "# Loop through each eigenvalue and compute nullspace of (A - λI)\n",
    "for lam in eigenvalues:\n",
    "    eig_matrix = A - lam * I\n",
    "    null_space = eig_matrix.nullspace()  # solution to (A - λI)v = 0\n",
    "    eigenvectors[lam] = null_space"
   ]
  },
  {
   "cell_type": "code",
   "execution_count": 48,
   "id": "7ad65d95-1f50-425b-84b7-793abb0f8a1c",
   "metadata": {},
   "outputs": [
    {
     "name": "stdout",
     "output_type": "stream",
     "text": [
      "\n",
      "Eigenvalue λ = -1\n",
      "Eigenvector 1:\n",
      "⎡1⎤\n",
      "⎢ ⎥\n",
      "⎢1⎥\n",
      "⎢ ⎥\n",
      "⎣1⎦\n",
      "\n",
      "Eigenvalue λ = 3\n",
      "Eigenvector 1:\n",
      "⎡1⎤\n",
      "⎢ ⎥\n",
      "⎢1⎥\n",
      "⎢ ⎥\n",
      "⎣0⎦\n",
      "Eigenvector 2:\n",
      "⎡-1⎤\n",
      "⎢  ⎥\n",
      "⎢0 ⎥\n",
      "⎢  ⎥\n",
      "⎣1 ⎦\n"
     ]
    }
   ],
   "source": [
    "# Display eigenvectors nicely\n",
    "for lam, vecs in eigenvectors.items():\n",
    "    print(f\"\\nEigenvalue λ = {lam}\")\n",
    "    for i, v in enumerate(vecs):\n",
    "        print(f\"Eigenvector {i+1}:\")\n",
    "        pprint(v)"
   ]
  },
  {
   "cell_type": "markdown",
   "id": "05ce3660-760b-4c40-b802-dcb63a9e8d0b",
   "metadata": {},
   "source": [
    "## Automated Method"
   ]
  },
  {
   "cell_type": "code",
   "execution_count": 34,
   "id": "2fe5a606-1af0-4a58-b0ea-65641a5ea62a",
   "metadata": {},
   "outputs": [
    {
     "data": {
      "text/latex": [
       "$\\displaystyle \\left[ \\left( -1, \\  1, \\  \\left[ \\left[\\begin{matrix}1\\\\1\\\\1\\end{matrix}\\right]\\right]\\right), \\  \\left( 3, \\  2, \\  \\left[ \\left[\\begin{matrix}1\\\\1\\\\0\\end{matrix}\\right], \\  \\left[\\begin{matrix}-1\\\\0\\\\1\\end{matrix}\\right]\\right]\\right)\\right]$"
      ],
      "text/plain": [
       "⎡⎛       ⎡⎡1⎤⎤⎞  ⎛      ⎡⎡1⎤  ⎡-1⎤⎤⎞⎤\n",
       "⎢⎜       ⎢⎢ ⎥⎥⎟  ⎜      ⎢⎢ ⎥  ⎢  ⎥⎥⎟⎥\n",
       "⎢⎜-1, 1, ⎢⎢1⎥⎥⎟, ⎜3, 2, ⎢⎢1⎥, ⎢0 ⎥⎥⎟⎥\n",
       "⎢⎜       ⎢⎢ ⎥⎥⎟  ⎜      ⎢⎢ ⎥  ⎢  ⎥⎥⎟⎥\n",
       "⎣⎝       ⎣⎣1⎦⎦⎠  ⎝      ⎣⎣0⎦  ⎣1 ⎦⎦⎠⎦"
      ]
     },
     "execution_count": 34,
     "metadata": {},
     "output_type": "execute_result"
    }
   ],
   "source": [
    "# Eigenvalues and their eigenvectors\n",
    "eigen_vects = A.eigenvects()\n",
    "eigen_vects"
   ]
  },
  {
   "cell_type": "markdown",
   "id": "3e157b61-cc15-4cf7-949a-7c236882586a",
   "metadata": {},
   "source": [
    "# Parts 4, 5, and 6"
   ]
  },
  {
   "cell_type": "code",
   "execution_count": 10,
   "id": "31b0b571-0b2b-4973-b2e7-e00301b2b427",
   "metadata": {},
   "outputs": [],
   "source": [
    "def analyze_matrix(A):\n",
    "    init_printing()\n",
    "    lamda = symbols('lamda')\n",
    "\n",
    "    print(\"\\nMatrix A:\")\n",
    "    pprint(A)\n",
    "\n",
    "    # Characteristic Polynomial\n",
    "    charpoly = A.charpoly(lamda)\n",
    "    print(\"\\nCharacteristic Polynomial:\")\n",
    "    pprint(charpoly.as_expr())\n",
    "\n",
    "    # Factored form\n",
    "    print(\"\\nFactored Characteristic Polynomial:\")\n",
    "    pprint(factor(charpoly.as_expr()))\n",
    "\n",
    "    # Eigenvalues with multiplicities\n",
    "    eigenvalues = roots(charpoly.as_expr(), lamda)\n",
    "    print(\"\\nEigenvalues and their multiplicities:\")\n",
    "    pprint(eigenvalues)\n",
    "\n",
    "    # Eigenvectors\n",
    "    print(\"\\nEigenvectors:\")\n",
    "    for eigval, mult, vecs in A.eigenvects():\n",
    "        print(f\"\\nλ = {eigval} (multiplicity {mult})\")\n",
    "        for i, v in enumerate(vecs):\n",
    "            print(f\"Eigenvector {i+1}:\")\n",
    "            pprint(v)"
   ]
  },
  {
   "cell_type": "code",
   "execution_count": 12,
   "id": "b54c4b5c-1cf8-402a-89f9-d8333498f8a1",
   "metadata": {},
   "outputs": [],
   "source": [
    "# Matrix A\n",
    "A = Matrix([\n",
    "    [-1, 4, -4],\n",
    "    [-4, 7, -4],\n",
    "    [-4, 4, -1]\n",
    "])\n",
    "\n",
    "# Matrix B\n",
    "B = Matrix([\n",
    "    [2, 2, -2, -2],\n",
    "    [0, 0, 2, 2],\n",
    "    [4, 2, -8, -6],\n",
    "    [-6, -2, 12, 8]\n",
    "])\n",
    "\n",
    "# Matrix C\n",
    "C = Matrix([\n",
    "    [3, 4, 5, 6, 7],\n",
    "    [0, 1, 2, 3, 4],\n",
    "    [0, 0, 7, 8, 9],\n",
    "    [0, 0, 0, 6, 5],\n",
    "    [0, 0, 0, 0, 4]\n",
    "])"
   ]
  },
  {
   "cell_type": "code",
   "execution_count": 14,
   "id": "a98160a3-aff0-428a-8a73-3f3ffa7ed33d",
   "metadata": {},
   "outputs": [
    {
     "name": "stdout",
     "output_type": "stream",
     "text": [
      "\n",
      "Matrix A:\n",
      "⎡-1  4  -4⎤\n",
      "⎢         ⎥\n",
      "⎢-4  7  -4⎥\n",
      "⎢         ⎥\n",
      "⎣-4  4  -1⎦\n",
      "\n",
      "Characteristic Polynomial:\n",
      " 3      2          \n",
      "λ  - 5⋅λ  + 3⋅λ + 9\n",
      "\n",
      "Factored Characteristic Polynomial:\n",
      "       2        \n",
      "(λ - 3) ⋅(λ + 1)\n",
      "\n",
      "Eigenvalues and their multiplicities:\n",
      "{-1: 1, 3: 2}\n",
      "\n",
      "Eigenvectors:\n",
      "\n",
      "λ = -1 (multiplicity 1)\n",
      "Eigenvector 1:\n",
      "⎡1⎤\n",
      "⎢ ⎥\n",
      "⎢1⎥\n",
      "⎢ ⎥\n",
      "⎣1⎦\n",
      "\n",
      "λ = 3 (multiplicity 2)\n",
      "Eigenvector 1:\n",
      "⎡1⎤\n",
      "⎢ ⎥\n",
      "⎢1⎥\n",
      "⎢ ⎥\n",
      "⎣0⎦\n",
      "Eigenvector 2:\n",
      "⎡-1⎤\n",
      "⎢  ⎥\n",
      "⎢0 ⎥\n",
      "⎢  ⎥\n",
      "⎣1 ⎦\n",
      "\n",
      "Matrix A:\n",
      "⎡2   2   -2  -2⎤\n",
      "⎢              ⎥\n",
      "⎢0   0   2   2 ⎥\n",
      "⎢              ⎥\n",
      "⎢4   2   -8  -6⎥\n",
      "⎢              ⎥\n",
      "⎣-6  -2  12  8 ⎦\n",
      "\n",
      "Characteristic Polynomial:\n",
      " 4      3      2      \n",
      "λ  - 2⋅λ  + 4⋅λ  - 8⋅λ\n",
      "\n",
      "Factored Characteristic Polynomial:\n",
      "          ⎛ 2    ⎞\n",
      "λ⋅(λ - 2)⋅⎝λ  + 4⎠\n",
      "\n",
      "Eigenvalues and their multiplicities:\n",
      "{0: 1, 2: 1, -2⋅ⅈ: 1, 2⋅ⅈ: 1}\n",
      "\n",
      "Eigenvectors:\n",
      "\n",
      "λ = 0 (multiplicity 1)\n",
      "Eigenvector 1:\n",
      "⎡-1⎤\n",
      "⎢  ⎥\n",
      "⎢1 ⎥\n",
      "⎢  ⎥\n",
      "⎢-1⎥\n",
      "⎢  ⎥\n",
      "⎣1 ⎦\n",
      "\n",
      "λ = 2 (multiplicity 1)\n",
      "Eigenvector 1:\n",
      "⎡-1⎤\n",
      "⎢  ⎥\n",
      "⎢0 ⎥\n",
      "⎢  ⎥\n",
      "⎢-1⎥\n",
      "⎢  ⎥\n",
      "⎣1 ⎦\n",
      "\n",
      "λ = -2*I (multiplicity 1)\n",
      "Eigenvector 1:\n",
      "⎡  1   ⅈ⎤\n",
      "⎢- ─ - ─⎥\n",
      "⎢  4   4⎥\n",
      "⎢       ⎥\n",
      "⎢ 1   ⅈ ⎥\n",
      "⎢ ─ + ─ ⎥\n",
      "⎢ 4   4 ⎥\n",
      "⎢       ⎥\n",
      "⎢  3   ⅈ⎥\n",
      "⎢- ─ - ─⎥\n",
      "⎢  4   4⎥\n",
      "⎢       ⎥\n",
      "⎣   1   ⎦\n",
      "\n",
      "λ = 2*I (multiplicity 1)\n",
      "Eigenvector 1:\n",
      "⎡  1   ⅈ⎤\n",
      "⎢- ─ + ─⎥\n",
      "⎢  4   4⎥\n",
      "⎢       ⎥\n",
      "⎢ 1   ⅈ ⎥\n",
      "⎢ ─ - ─ ⎥\n",
      "⎢ 4   4 ⎥\n",
      "⎢       ⎥\n",
      "⎢  3   ⅈ⎥\n",
      "⎢- ─ + ─⎥\n",
      "⎢  4   4⎥\n",
      "⎢       ⎥\n",
      "⎣   1   ⎦\n",
      "\n",
      "Matrix A:\n",
      "⎡3  4  5  6  7⎤\n",
      "⎢             ⎥\n",
      "⎢0  1  2  3  4⎥\n",
      "⎢             ⎥\n",
      "⎢0  0  7  8  9⎥\n",
      "⎢             ⎥\n",
      "⎢0  0  0  6  5⎥\n",
      "⎢             ⎥\n",
      "⎣0  0  0  0  4⎦\n",
      "\n",
      "Characteristic Polynomial:\n",
      " 5       4        3        2              \n",
      "λ  - 21⋅λ  + 165⋅λ  - 595⋅λ  + 954⋅λ - 504\n",
      "\n",
      "Factored Characteristic Polynomial:\n",
      "(λ - 7)⋅(λ - 6)⋅(λ - 4)⋅(λ - 3)⋅(λ - 1)\n",
      "\n",
      "Eigenvalues and their multiplicities:\n",
      "{1: 1, 3: 1, 4: 1, 6: 1, 7: 1}\n",
      "\n",
      "Eigenvectors:\n",
      "\n",
      "λ = 1 (multiplicity 1)\n",
      "Eigenvector 1:\n",
      "⎡-2⎤\n",
      "⎢  ⎥\n",
      "⎢1 ⎥\n",
      "⎢  ⎥\n",
      "⎢0 ⎥\n",
      "⎢  ⎥\n",
      "⎢0 ⎥\n",
      "⎢  ⎥\n",
      "⎣0 ⎦\n",
      "\n",
      "λ = 3 (multiplicity 1)\n",
      "Eigenvector 1:\n",
      "⎡1⎤\n",
      "⎢ ⎥\n",
      "⎢0⎥\n",
      "⎢ ⎥\n",
      "⎢0⎥\n",
      "⎢ ⎥\n",
      "⎢0⎥\n",
      "⎢ ⎥\n",
      "⎣0⎦\n",
      "\n",
      "λ = 4 (multiplicity 1)\n",
      "Eigenvector 1:\n",
      "⎡139/9⎤\n",
      "⎢     ⎥\n",
      "⎢ 23  ⎥\n",
      "⎢ ──  ⎥\n",
      "⎢ 18  ⎥\n",
      "⎢     ⎥\n",
      "⎢11/3 ⎥\n",
      "⎢     ⎥\n",
      "⎢-5/2 ⎥\n",
      "⎢     ⎥\n",
      "⎣  1  ⎦\n",
      "\n",
      "λ = 6 (multiplicity 1)\n",
      "Eigenvector 1:\n",
      "⎡-74/5⎤\n",
      "⎢     ⎥\n",
      "⎢-13/5⎥\n",
      "⎢     ⎥\n",
      "⎢ -8  ⎥\n",
      "⎢     ⎥\n",
      "⎢  1  ⎥\n",
      "⎢     ⎥\n",
      "⎣  0  ⎦\n",
      "\n",
      "λ = 7 (multiplicity 1)\n",
      "Eigenvector 1:\n",
      "⎡19 ⎤\n",
      "⎢── ⎥\n",
      "⎢12 ⎥\n",
      "⎢   ⎥\n",
      "⎢1/3⎥\n",
      "⎢   ⎥\n",
      "⎢ 1 ⎥\n",
      "⎢   ⎥\n",
      "⎢ 0 ⎥\n",
      "⎢   ⎥\n",
      "⎣ 0 ⎦\n"
     ]
    }
   ],
   "source": [
    "analyze_matrix(A)\n",
    "analyze_matrix(B)\n",
    "analyze_matrix(C)"
   ]
  },
  {
   "cell_type": "markdown",
   "id": "80169434-aaa1-4749-972a-559f3d4a0640",
   "metadata": {},
   "source": [
    "# Diagonalize"
   ]
  },
  {
   "cell_type": "code",
   "execution_count": 17,
   "id": "8fbaeac4-30a3-4152-aaf6-610a1aff425a",
   "metadata": {},
   "outputs": [],
   "source": [
    "def diagonalize_matrix(A):\n",
    "    print(\"\\nAttempting to diagonalize the matrix:\")\n",
    "    try:\n",
    "        P, D = A.diagonalize()\n",
    "        print(\"\\nMatrix of eigenvectors (P):\")\n",
    "        pprint(P)\n",
    "        print(\"\\nDiagonal matrix of eigenvalues (D):\")\n",
    "        pprint(D)\n",
    "        print(\"\\nCheck that A = P * D * P⁻¹:\")\n",
    "        A_check = P * D * P.inv()\n",
    "        pprint(A_check.equals(A))  # Should return True\n",
    "    except MatrixError as e:\n",
    "        print(\"Matrix is not diagonalizable.\")\n",
    "        print(f\"Reason: {e}\")"
   ]
  },
  {
   "cell_type": "code",
   "execution_count": 19,
   "id": "a624472f-0539-48e7-891b-5ad0795efff7",
   "metadata": {},
   "outputs": [
    {
     "name": "stdout",
     "output_type": "stream",
     "text": [
      "\n",
      "Attempting to diagonalize the matrix:\n",
      "\n",
      "Matrix of eigenvectors (P):\n",
      "⎡1  1  -1⎤\n",
      "⎢        ⎥\n",
      "⎢1  1  0 ⎥\n",
      "⎢        ⎥\n",
      "⎣1  0  1 ⎦\n",
      "\n",
      "Diagonal matrix of eigenvalues (D):\n",
      "⎡-1  0  0⎤\n",
      "⎢        ⎥\n",
      "⎢0   3  0⎥\n",
      "⎢        ⎥\n",
      "⎣0   0  3⎦\n",
      "\n",
      "Check that A = P * D * P⁻¹:\n",
      "True\n",
      "\n",
      "Attempting to diagonalize the matrix:\n",
      "\n",
      "Matrix of eigenvectors (P):\n",
      "⎡-1  -1  -1 - ⅈ  -1 + ⅈ⎤\n",
      "⎢                      ⎥\n",
      "⎢1   0   1 + ⅈ   1 - ⅈ ⎥\n",
      "⎢                      ⎥\n",
      "⎢-1  -1  -3 - ⅈ  -3 + ⅈ⎥\n",
      "⎢                      ⎥\n",
      "⎣1   1     4       4   ⎦\n",
      "\n",
      "Diagonal matrix of eigenvalues (D):\n",
      "⎡0  0   0     0 ⎤\n",
      "⎢               ⎥\n",
      "⎢0  2   0     0 ⎥\n",
      "⎢               ⎥\n",
      "⎢0  0  -2⋅ⅈ   0 ⎥\n",
      "⎢               ⎥\n",
      "⎣0  0   0    2⋅ⅈ⎦\n",
      "\n",
      "Check that A = P * D * P⁻¹:\n",
      "True\n",
      "\n",
      "Attempting to diagonalize the matrix:\n",
      "\n",
      "Matrix of eigenvectors (P):\n",
      "⎡-2  1  278  -74  19⎤\n",
      "⎢                   ⎥\n",
      "⎢1   0  23   -13  4 ⎥\n",
      "⎢                   ⎥\n",
      "⎢0   0  66   -40  12⎥\n",
      "⎢                   ⎥\n",
      "⎢0   0  -45   5   0 ⎥\n",
      "⎢                   ⎥\n",
      "⎣0   0  18    0   0 ⎦\n",
      "\n",
      "Diagonal matrix of eigenvalues (D):\n",
      "⎡1  0  0  0  0⎤\n",
      "⎢             ⎥\n",
      "⎢0  3  0  0  0⎥\n",
      "⎢             ⎥\n",
      "⎢0  0  4  0  0⎥\n",
      "⎢             ⎥\n",
      "⎢0  0  0  6  0⎥\n",
      "⎢             ⎥\n",
      "⎣0  0  0  0  7⎦\n",
      "\n",
      "Check that A = P * D * P⁻¹:\n",
      "True\n"
     ]
    }
   ],
   "source": [
    "diagonalize_matrix(A)\n",
    "diagonalize_matrix(B)\n",
    "diagonalize_matrix(C)"
   ]
  },
  {
   "cell_type": "code",
   "execution_count": null,
   "id": "3d376378-0316-4a35-bd51-ee557ea35e72",
   "metadata": {},
   "outputs": [],
   "source": []
  }
 ],
 "metadata": {
  "kernelspec": {
   "display_name": "Python 3 (ipykernel)",
   "language": "python",
   "name": "python3"
  },
  "language_info": {
   "codemirror_mode": {
    "name": "ipython",
    "version": 3
   },
   "file_extension": ".py",
   "mimetype": "text/x-python",
   "name": "python",
   "nbconvert_exporter": "python",
   "pygments_lexer": "ipython3",
   "version": "3.12.4"
  }
 },
 "nbformat": 4,
 "nbformat_minor": 5
}
